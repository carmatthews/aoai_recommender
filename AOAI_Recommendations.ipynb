{
  "cells": [
    {
      "cell_type": "markdown",
      "source": [
        "# Introduction"
      ],
      "metadata": {
        "nteract": {
          "transient": {
            "deleting": false
          }
        }
      }
    },
    {
      "cell_type": "markdown",
      "source": [
        "This notebook implements a content-based filtering recommendation system that matches a user's request to items from a product catalog using the descriptive (textual) information. \r\n",
        "\r\n",
        "The first step is to convert the textual item descriptions from the product catalog into numeric representations, called embeddings.  Embeddings represent the letters/numbers/phrases of the text, but also the context.  These embeddings are stored with the product catalog and referenced when a recommendation request is received.  To find items that match a request an embedding is also generated for the user's request which is compared to the embeddings from the product catalog to find similarities.  Each item in the catalog is scored based on the similarity between its embedding and the request embedding.\r\n",
        "\r\n",
        "The next step leverages the conversational capabilties of Azure OpenAI (ChatGPT) to provide an interactive experience for user's requesting recommendations.  The prompt to ChatGPT is enriched with some of the top scoring products along with the request, then the conversation can flow to narrow down the set of recommendations to best for the specific situation for the user.\r\n",
        "\r\n"
      ],
      "metadata": {
        "nteract": {
          "transient": {
            "deleting": false
          }
        }
      }
    },
    {
      "cell_type": "markdown",
      "source": [
        "# Setup\r\n",
        "\r\n"
      ],
      "metadata": {
        "nteract": {
          "transient": {
            "deleting": false
          }
        }
      }
    },
    {
      "cell_type": "markdown",
      "source": [
        "## Prerequisites\r\n",
        "\r\n",
        "The OpenAI python library provides access to the OpenAI API to interact with the models used for the recommender, for embeddings and conversation.  This notebook uses the Azure API type.  \r\n",
        "\r\n",
        "**NOTE:** You will need an Azure OpenAI account endpoint and API key; to set up a new resource please see [Create an Azure OpenAI Resource](https://learn.microsoft.com/en-us/azure/cognitive-services/openai/how-to/create-resource?pivots=web-portal#create-a-resource) or to find existing credential information, you can find this on the Azure portal on the Overview page (Endpoint and Manage Keys).\r\n",
        "\r\n",
        "This example leverages a .env file to store the credentials used for accessing Azure OpenAI API; python-dotenv enables this.  An example file is provided with this repo called \"secrets.env\".  You can update this file with your information and rename it to .env to use along with this notebook."
      ],
      "metadata": {
        "nteract": {
          "transient": {
            "deleting": false
          }
        }
      }
    },
    {
      "cell_type": "code",
      "source": [
        "#!pip install openai \r\n",
        "#!pip install python-dotenv"
      ],
      "outputs": [],
      "execution_count": 1,
      "metadata": {
        "gather": {
          "logged": 1684448221519
        }
      }
    },
    {
      "cell_type": "code",
      "source": [
        "import os\r\n",
        "import requests\r\n",
        "import time\r\n",
        "\r\n",
        "import openai\r\n",
        "from openai.embeddings_utils import get_embedding, cosine_similarity\r\n",
        "\r\n",
        "import pandas as pd\r\n",
        "\r\n",
        "from dotenv import load_dotenv\r\n",
        "load_dotenv()"
      ],
      "outputs": [
        {
          "output_type": "execute_result",
          "execution_count": 2,
          "data": {
            "text/plain": "True"
          },
          "metadata": {}
        }
      ],
      "execution_count": 2,
      "metadata": {
        "jupyter": {
          "source_hidden": false,
          "outputs_hidden": false
        },
        "nteract": {
          "transient": {
            "deleting": false
          }
        },
        "gather": {
          "logged": 1684448222888
        }
      }
    },
    {
      "cell_type": "markdown",
      "source": [
        "## Azure OpenAI Models\r\n",
        "\r\n",
        "Two types of large language models are used for the recommendation system: <br/><br/>\r\n",
        "1) Similarity [Embeddings](https://learn.microsoft.com/en-us/azure/cognitive-services/openai/concepts/understand-embeddings) model designed for creating the embeddings used for finding similarity between snippets of text.<br/>\r\n",
        "2) [ChatGPT or GPT-4](https://learn.microsoft.com/en-us/azure/cognitive-services/openai/how-to/chatgpt?pivots=programming-language-chat-completions) model for the conversational interface <br/>\r\n",
        "\r\n",
        "This example was built using the **text-embedding-ada-002** model for similarity embeddings and **gpt-35-turbo** for the conversational functionality. \r\n",
        "\r\n",
        "Before continuing with this notebook, confirm that deployments exist for these types of models in your Azure OpenAI service.  "
      ],
      "metadata": {
        "nteract": {
          "transient": {
            "deleting": false
          }
        }
      }
    },
    {
      "cell_type": "code",
      "source": [
        "# set the variables to the deployment name for your models\r\n",
        "embeddings_model_deployment = 'text-embedding-ada-002'\r\n",
        "chat_model_deployment = 'gpt35-cm' #gpt-35-turbo"
      ],
      "outputs": [],
      "execution_count": 3,
      "metadata": {
        "jupyter": {
          "source_hidden": false,
          "outputs_hidden": false
        },
        "nteract": {
          "transient": {
            "deleting": false
          }
        },
        "gather": {
          "logged": 1684448223186
        }
      }
    },
    {
      "cell_type": "markdown",
      "source": [
        "## Azure OpenAI Test\r\n",
        "\r\n",
        "Check connectivity to Azure OpenAI Service and list all model deployments."
      ],
      "metadata": {
        "nteract": {
          "transient": {
            "deleting": false
          }
        }
      }
    },
    {
      "cell_type": "code",
      "source": [
        "API_KEY = os.getenv(\"AOAI_API_KEY\") \r\n",
        "RESOURCE_ENDPOINT = os.getenv(\"AOAI_ENDPOINT\")\r\n",
        "\r\n",
        "openai.api_key = API_KEY\r\n",
        "openai.api_base = RESOURCE_ENDPOINT\r\n",
        "openai.api_type = \"azure\"\r\n",
        "openai.api_version = '2023-03-15-preview' #\"2022-12-01\"\r\n",
        "\r\n",
        "# get a list of all model deployments on the service\r\n",
        "url = openai.api_base + \"/openai/deployments?api-version=\" + openai.api_version\r\n",
        "r = requests.get(url, headers={\"api-key\": API_KEY})\r\n",
        "print(r.text)"
      ],
      "outputs": [],
      "execution_count": 49,
      "metadata": {
        "jupyter": {
          "source_hidden": false,
          "outputs_hidden": true
        },
        "nteract": {
          "transient": {
            "deleting": false
          }
        },
        "gather": {
          "logged": 1684449492039
        }
      }
    },
    {
      "cell_type": "code",
      "source": [
        "# Create a simple prompt\r\n",
        "text_prompt = \"Should oxford commas always be used?\"\r\n",
        "\r\n",
        "answer = openai.Completion.create(\r\n",
        "    engine=chat_model_deployment,  \r\n",
        "    prompt=text_prompt,\r\n",
        "    max_tokens=60\r\n",
        ")\r\n",
        "\r\n",
        "print(answer['choices'][0]['text'])\r\n"
      ],
      "outputs": [
        {
          "output_type": "stream",
          "name": "stdout",
          "text": " “My heroes are my parents, Nelson Mandela, and Mother Theresa” (The oxford comma is after Mandela)\n\nPlaced after Nelson Mandela, adds clarity\n\nThe oxford comma is NOT necessary in every sentence. The general rule of thumb is to determine whether it clarifies meaning and avoid ambiguity.\n\n\n"
        }
      ],
      "execution_count": 48,
      "metadata": {
        "jupyter": {
          "source_hidden": false,
          "outputs_hidden": false
        },
        "nteract": {
          "transient": {
            "deleting": false
          }
        },
        "gather": {
          "logged": 1684449290933
        }
      }
    },
    {
      "cell_type": "markdown",
      "source": [
        "# Data Preperation"
      ],
      "metadata": {
        "nteract": {
          "transient": {
            "deleting": false
          }
        }
      }
    },
    {
      "cell_type": "markdown",
      "source": [
        "## Product Catalog\r\n",
        "\r\n",
        "The product catalog consists of 298 items of retail clothing, accessories, and shoes.  The textual data available is a product title and description."
      ],
      "metadata": {
        "nteract": {
          "transient": {
            "deleting": false
          }
        }
      }
    },
    {
      "cell_type": "code",
      "source": [
        "products_df=pd.read_csv('product_catalog.csv')\r\n",
        "print(products_df.shape)\r\n",
        "products_df.head()"
      ],
      "outputs": [
        {
          "output_type": "stream",
          "name": "stdout",
          "text": "(298, 4)\n"
        },
        {
          "output_type": "execute_result",
          "execution_count": 8,
          "data": {
            "text/plain": "        itemId                                              Title  \\\n0  68719490621  Retro Horn Rimmed Keyhole Nose Bridge Round Su...   \n1  68719490622                Genuine Leather Suede Handbag Purse   \n2  68719490628                  Khaki Men's Oversized Trench Coat   \n3  68719490634                       Suede Leather Slip-on Loafer   \n4  68719491371                     Small Calfskin Leather Satchel   \n\n                                         Description              Release Date  \n0  High-quality and pioneered  with the perfect b...  2021-03-26T11:12:13.000Z  \n1  This sleek Italian leather bag features an opt...  2021-06-25T11:12:13.000Z  \n2  Lightweight design crafted with premium qualit...  2021-04-23T11:12:13.000Z  \n3  Pure comfort for your feet with these handsome...  2021-02-11T11:12:13.000Z  \n4  A snapping handle and secure clip, paired with...  2021-06-21T11:12:13.000Z  ",
            "text/html": "<div>\n<style scoped>\n    .dataframe tbody tr th:only-of-type {\n        vertical-align: middle;\n    }\n\n    .dataframe tbody tr th {\n        vertical-align: top;\n    }\n\n    .dataframe thead th {\n        text-align: right;\n    }\n</style>\n<table border=\"1\" class=\"dataframe\">\n  <thead>\n    <tr style=\"text-align: right;\">\n      <th></th>\n      <th>itemId</th>\n      <th>Title</th>\n      <th>Description</th>\n      <th>Release Date</th>\n    </tr>\n  </thead>\n  <tbody>\n    <tr>\n      <th>0</th>\n      <td>68719490621</td>\n      <td>Retro Horn Rimmed Keyhole Nose Bridge Round Su...</td>\n      <td>High-quality and pioneered  with the perfect b...</td>\n      <td>2021-03-26T11:12:13.000Z</td>\n    </tr>\n    <tr>\n      <th>1</th>\n      <td>68719490622</td>\n      <td>Genuine Leather Suede Handbag Purse</td>\n      <td>This sleek Italian leather bag features an opt...</td>\n      <td>2021-06-25T11:12:13.000Z</td>\n    </tr>\n    <tr>\n      <th>2</th>\n      <td>68719490628</td>\n      <td>Khaki Men's Oversized Trench Coat</td>\n      <td>Lightweight design crafted with premium qualit...</td>\n      <td>2021-04-23T11:12:13.000Z</td>\n    </tr>\n    <tr>\n      <th>3</th>\n      <td>68719490634</td>\n      <td>Suede Leather Slip-on Loafer</td>\n      <td>Pure comfort for your feet with these handsome...</td>\n      <td>2021-02-11T11:12:13.000Z</td>\n    </tr>\n    <tr>\n      <th>4</th>\n      <td>68719491371</td>\n      <td>Small Calfskin Leather Satchel</td>\n      <td>A snapping handle and secure clip, paired with...</td>\n      <td>2021-06-21T11:12:13.000Z</td>\n    </tr>\n  </tbody>\n</table>\n</div>"
          },
          "metadata": {}
        }
      ],
      "execution_count": 8,
      "metadata": {
        "jupyter": {
          "source_hidden": false,
          "outputs_hidden": false
        },
        "nteract": {
          "transient": {
            "deleting": false
          }
        },
        "gather": {
          "logged": 1684448320253
        }
      }
    },
    {
      "cell_type": "markdown",
      "source": [
        "## Product Embeddings"
      ],
      "metadata": {
        "nteract": {
          "transient": {
            "deleting": false
          }
        }
      }
    },
    {
      "cell_type": "markdown",
      "source": [
        "The first step is to merge the fields into a single column, for convenience when generating the embeddings.  If your dataset had additional descriptive fields you could add them as well (e.g. color, sizes, categories, etc.)."
      ],
      "metadata": {
        "nteract": {
          "transient": {
            "deleting": false
          }
        }
      }
    },
    {
      "cell_type": "code",
      "source": [
        "products_df['textCombined'] = products_df.apply(lambda row: f\"{row['Title']}, {row['Description']}\", axis=1)\r\n",
        "products_df.head()"
      ],
      "outputs": [
        {
          "output_type": "execute_result",
          "execution_count": 9,
          "data": {
            "text/plain": "        itemId                                              Title  \\\n0  68719490621  Retro Horn Rimmed Keyhole Nose Bridge Round Su...   \n1  68719490622                Genuine Leather Suede Handbag Purse   \n2  68719490628                  Khaki Men's Oversized Trench Coat   \n3  68719490634                       Suede Leather Slip-on Loafer   \n4  68719491371                     Small Calfskin Leather Satchel   \n\n                                         Description  \\\n0  High-quality and pioneered  with the perfect b...   \n1  This sleek Italian leather bag features an opt...   \n2  Lightweight design crafted with premium qualit...   \n3  Pure comfort for your feet with these handsome...   \n4  A snapping handle and secure clip, paired with...   \n\n               Release Date                                       textCombined  \n0  2021-03-26T11:12:13.000Z  Retro Horn Rimmed Keyhole Nose Bridge Round Su...  \n1  2021-06-25T11:12:13.000Z  Genuine Leather Suede Handbag Purse, This slee...  \n2  2021-04-23T11:12:13.000Z  Khaki Men's Oversized Trench Coat, Lightweight...  \n3  2021-02-11T11:12:13.000Z  Suede Leather Slip-on Loafer, Pure comfort for...  \n4  2021-06-21T11:12:13.000Z  Small Calfskin Leather Satchel, A snapping han...  ",
            "text/html": "<div>\n<style scoped>\n    .dataframe tbody tr th:only-of-type {\n        vertical-align: middle;\n    }\n\n    .dataframe tbody tr th {\n        vertical-align: top;\n    }\n\n    .dataframe thead th {\n        text-align: right;\n    }\n</style>\n<table border=\"1\" class=\"dataframe\">\n  <thead>\n    <tr style=\"text-align: right;\">\n      <th></th>\n      <th>itemId</th>\n      <th>Title</th>\n      <th>Description</th>\n      <th>Release Date</th>\n      <th>textCombined</th>\n    </tr>\n  </thead>\n  <tbody>\n    <tr>\n      <th>0</th>\n      <td>68719490621</td>\n      <td>Retro Horn Rimmed Keyhole Nose Bridge Round Su...</td>\n      <td>High-quality and pioneered  with the perfect b...</td>\n      <td>2021-03-26T11:12:13.000Z</td>\n      <td>Retro Horn Rimmed Keyhole Nose Bridge Round Su...</td>\n    </tr>\n    <tr>\n      <th>1</th>\n      <td>68719490622</td>\n      <td>Genuine Leather Suede Handbag Purse</td>\n      <td>This sleek Italian leather bag features an opt...</td>\n      <td>2021-06-25T11:12:13.000Z</td>\n      <td>Genuine Leather Suede Handbag Purse, This slee...</td>\n    </tr>\n    <tr>\n      <th>2</th>\n      <td>68719490628</td>\n      <td>Khaki Men's Oversized Trench Coat</td>\n      <td>Lightweight design crafted with premium qualit...</td>\n      <td>2021-04-23T11:12:13.000Z</td>\n      <td>Khaki Men's Oversized Trench Coat, Lightweight...</td>\n    </tr>\n    <tr>\n      <th>3</th>\n      <td>68719490634</td>\n      <td>Suede Leather Slip-on Loafer</td>\n      <td>Pure comfort for your feet with these handsome...</td>\n      <td>2021-02-11T11:12:13.000Z</td>\n      <td>Suede Leather Slip-on Loafer, Pure comfort for...</td>\n    </tr>\n    <tr>\n      <th>4</th>\n      <td>68719491371</td>\n      <td>Small Calfskin Leather Satchel</td>\n      <td>A snapping handle and secure clip, paired with...</td>\n      <td>2021-06-21T11:12:13.000Z</td>\n      <td>Small Calfskin Leather Satchel, A snapping han...</td>\n    </tr>\n  </tbody>\n</table>\n</div>"
          },
          "metadata": {}
        }
      ],
      "execution_count": 9,
      "metadata": {
        "jupyter": {
          "source_hidden": false,
          "outputs_hidden": false
        },
        "nteract": {
          "transient": {
            "deleting": false
          }
        },
        "gather": {
          "logged": 1684448327181
        }
      }
    },
    {
      "cell_type": "markdown",
      "source": [
        "Next, use the embeddings model to vectorize the combined description and title text of the items into numerical representations.  For more information, see the [Embeddings REST API Reference](https://learn.microsoft.com/en-us/azure/cognitive-services/openai/reference#embeddings).\r\n",
        "\r\n",
        "**NOTE:** This may take a few minutes to run."
      ],
      "metadata": {
        "nteract": {
          "transient": {
            "deleting": false
          }
        }
      }
    },
    {
      "cell_type": "code",
      "source": [
        "#use the OpenAI method to get an embedding of the text title/description for each item in the product catalog\r\n",
        "products_df['textEmbedding'] = products_df.textCombined.apply(lambda x: get_embedding(x, engine=embeddings_model_deployment))  "
      ],
      "outputs": [],
      "execution_count": 10,
      "metadata": {
        "jupyter": {
          "source_hidden": false,
          "outputs_hidden": false
        },
        "nteract": {
          "transient": {
            "deleting": false
          }
        },
        "gather": {
          "logged": 1684448349011
        }
      }
    },
    {
      "cell_type": "code",
      "source": [
        "products_df.head(5)"
      ],
      "outputs": [
        {
          "output_type": "execute_result",
          "execution_count": 11,
          "data": {
            "text/plain": "        itemId                                              Title  \\\n0  68719490621  Retro Horn Rimmed Keyhole Nose Bridge Round Su...   \n1  68719490622                Genuine Leather Suede Handbag Purse   \n2  68719490628                  Khaki Men's Oversized Trench Coat   \n3  68719490634                       Suede Leather Slip-on Loafer   \n4  68719491371                     Small Calfskin Leather Satchel   \n\n                                         Description  \\\n0  High-quality and pioneered  with the perfect b...   \n1  This sleek Italian leather bag features an opt...   \n2  Lightweight design crafted with premium qualit...   \n3  Pure comfort for your feet with these handsome...   \n4  A snapping handle and secure clip, paired with...   \n\n               Release Date  \\\n0  2021-03-26T11:12:13.000Z   \n1  2021-06-25T11:12:13.000Z   \n2  2021-04-23T11:12:13.000Z   \n3  2021-02-11T11:12:13.000Z   \n4  2021-06-21T11:12:13.000Z   \n\n                                        textCombined  \\\n0  Retro Horn Rimmed Keyhole Nose Bridge Round Su...   \n1  Genuine Leather Suede Handbag Purse, This slee...   \n2  Khaki Men's Oversized Trench Coat, Lightweight...   \n3  Suede Leather Slip-on Loafer, Pure comfort for...   \n4  Small Calfskin Leather Satchel, A snapping han...   \n\n                                       textEmbedding  \n0  [-0.016605181619524956, 0.0011062334524467587,...  \n1  [-0.0034925153013318777, 0.011994564905762672,...  \n2  [-0.02285175770521164, 0.003873234847560525, 0...  \n3  [0.01239150669425726, 0.012358303181827068, -0...  \n4  [-0.008272010833024979, 0.006926483474671841, ...  ",
            "text/html": "<div>\n<style scoped>\n    .dataframe tbody tr th:only-of-type {\n        vertical-align: middle;\n    }\n\n    .dataframe tbody tr th {\n        vertical-align: top;\n    }\n\n    .dataframe thead th {\n        text-align: right;\n    }\n</style>\n<table border=\"1\" class=\"dataframe\">\n  <thead>\n    <tr style=\"text-align: right;\">\n      <th></th>\n      <th>itemId</th>\n      <th>Title</th>\n      <th>Description</th>\n      <th>Release Date</th>\n      <th>textCombined</th>\n      <th>textEmbedding</th>\n    </tr>\n  </thead>\n  <tbody>\n    <tr>\n      <th>0</th>\n      <td>68719490621</td>\n      <td>Retro Horn Rimmed Keyhole Nose Bridge Round Su...</td>\n      <td>High-quality and pioneered  with the perfect b...</td>\n      <td>2021-03-26T11:12:13.000Z</td>\n      <td>Retro Horn Rimmed Keyhole Nose Bridge Round Su...</td>\n      <td>[-0.016605181619524956, 0.0011062334524467587,...</td>\n    </tr>\n    <tr>\n      <th>1</th>\n      <td>68719490622</td>\n      <td>Genuine Leather Suede Handbag Purse</td>\n      <td>This sleek Italian leather bag features an opt...</td>\n      <td>2021-06-25T11:12:13.000Z</td>\n      <td>Genuine Leather Suede Handbag Purse, This slee...</td>\n      <td>[-0.0034925153013318777, 0.011994564905762672,...</td>\n    </tr>\n    <tr>\n      <th>2</th>\n      <td>68719490628</td>\n      <td>Khaki Men's Oversized Trench Coat</td>\n      <td>Lightweight design crafted with premium qualit...</td>\n      <td>2021-04-23T11:12:13.000Z</td>\n      <td>Khaki Men's Oversized Trench Coat, Lightweight...</td>\n      <td>[-0.02285175770521164, 0.003873234847560525, 0...</td>\n    </tr>\n    <tr>\n      <th>3</th>\n      <td>68719490634</td>\n      <td>Suede Leather Slip-on Loafer</td>\n      <td>Pure comfort for your feet with these handsome...</td>\n      <td>2021-02-11T11:12:13.000Z</td>\n      <td>Suede Leather Slip-on Loafer, Pure comfort for...</td>\n      <td>[0.01239150669425726, 0.012358303181827068, -0...</td>\n    </tr>\n    <tr>\n      <th>4</th>\n      <td>68719491371</td>\n      <td>Small Calfskin Leather Satchel</td>\n      <td>A snapping handle and secure clip, paired with...</td>\n      <td>2021-06-21T11:12:13.000Z</td>\n      <td>Small Calfskin Leather Satchel, A snapping han...</td>\n      <td>[-0.008272010833024979, 0.006926483474671841, ...</td>\n    </tr>\n  </tbody>\n</table>\n</div>"
          },
          "metadata": {}
        }
      ],
      "execution_count": 11,
      "metadata": {
        "jupyter": {
          "source_hidden": false,
          "outputs_hidden": false
        },
        "nteract": {
          "transient": {
            "deleting": false
          }
        },
        "gather": {
          "logged": 1684448575983
        }
      }
    },
    {
      "cell_type": "markdown",
      "source": [
        "# Customer Input\r\n",
        "\r\n",
        "The customer will enter a message, providing a information about what they're looking for, then embeddings for their search are generated."
      ],
      "metadata": {
        "nteract": {
          "transient": {
            "deleting": false
          }
        }
      }
    },
    {
      "cell_type": "code",
      "source": [
        "customer_input = \"Hi! Can you recommend some dressy shoes for me to wear with a black dress?\""
      ],
      "outputs": [],
      "execution_count": 12,
      "metadata": {
        "jupyter": {
          "source_hidden": false,
          "outputs_hidden": false
        },
        "nteract": {
          "transient": {
            "deleting": false
          }
        },
        "gather": {
          "logged": 1684448578182
        }
      }
    },
    {
      "cell_type": "code",
      "source": [
        "#use the REST API to send a request to OpenAI to generate embeddings for the item(s) they are searching for.\r\n",
        "response = openai.Embedding.create(\r\n",
        "    input=customer_input,\r\n",
        "    engine=embeddings_model_deployment\r\n",
        ")\r\n",
        "embeddings_customer_question = response['data'][0]['embedding']"
      ],
      "outputs": [],
      "execution_count": 13,
      "metadata": {
        "jupyter": {
          "source_hidden": false,
          "outputs_hidden": false
        },
        "nteract": {
          "transient": {
            "deleting": false
          }
        },
        "gather": {
          "logged": 1684448580272
        }
      }
    },
    {
      "cell_type": "markdown",
      "source": [
        "# Find Similar Items\r\n",
        "\r\n",
        "Find Similar items in the product catalog to what the user is looking for.  [Cosine Similarity](https://learn.microsoft.com/en-us/azure/cognitive-services/openai/concepts/understand-embeddings#cosine-similarity) is used to find embeddings that are closest (more similar) to the user's search description."
      ],
      "metadata": {
        "nteract": {
          "transient": {
            "deleting": false
          }
        }
      }
    },
    {
      "cell_type": "code",
      "source": [
        "# look for similar items in the product catalog, sort by highest searchScore\r\n",
        "products_df['searchScore'] = products_df.textEmbedding.apply(lambda x: cosine_similarity(x, embeddings_customer_question))\r\n",
        "products_df = products_df.sort_values('searchScore', ascending=False)\r\n",
        "products_df.head(10)"
      ],
      "outputs": [
        {
          "output_type": "execute_result",
          "execution_count": 14,
          "data": {
            "text/plain": "          itemId                           Title  \\\n255  68719495270          Strappy Platform Pumps   \n249  68719495132               Pointed-toe Pumps   \n151  68719493316               Suede Dress Shoes   \n243  68719494994          Platform Leather Pumps   \n247  68719495086  Platform Open-toe Velvet Pumps   \n149  68719493275  Tailored Patchwork Dress Shoes   \n152  68719493343     Classic Leather Dress Shoes   \n154  68719493397     Genuine Leather Tuxedo Shoe   \n198  68719494523   Strapless Black Evening Dress   \n237  68719494856       Platform Stilleto Booties   \n\n                                           Description  \\\n255  These strappy platform pumps can be paired wit...   \n249  These red pointed-toe pumps are perfect for pa...   \n151  Classic dress shoes paired with suede to creat...   \n243  These black platform leather pumps are perfect...   \n247  These tan platform open-toe velvet pumps are p...   \n149  Tan dress shoes complete with tailored patchwo...   \n152    Classic dress shoes made of authentic leather.    \n154   Black tuxedo shoe crafted with genuine leather.    \n198  This strapless black evening dress is perfect ...   \n237  Platform stilletos are paired with black leath...   \n\n                 Release Date  \\\n255  2021-09-15T11:12:13.000Z   \n249  2021-02-16T11:12:13.000Z   \n151  2021-04-11T11:12:13.000Z   \n243  2021-01-19T11:12:13.000Z   \n247  2021-04-24T11:12:13.000Z   \n149  2021-01-24T11:12:13.000Z   \n152  2021-08-22T11:12:13.000Z   \n154  2021-09-18T11:12:13.000Z   \n198  2021-02-26T11:12:13.000Z   \n237  2021-05-15T11:12:13.000Z   \n\n                                          textCombined  \\\n255  Strappy Platform Pumps, These strappy platform...   \n249  Pointed-toe Pumps, These red pointed-toe pumps...   \n151  Suede Dress Shoes, Classic dress shoes paired ...   \n243  Platform Leather Pumps, These black platform l...   \n247  Platform Open-toe Velvet Pumps, These tan plat...   \n149  Tailored Patchwork Dress Shoes, Tan dress shoe...   \n152  Classic Leather Dress Shoes, Classic dress sho...   \n154  Genuine Leather Tuxedo Shoe, Black tuxedo shoe...   \n198  Strapless Black Evening Dress, This strapless ...   \n237  Platform Stilleto Booties, Platform stilletos ...   \n\n                                         textEmbedding  searchScore  \n255  [-0.013429885730147362, -0.013352850452065468,...     0.845308  \n249  [-0.016923705115914345, -0.029531994834542274,...     0.843851  \n151  [-0.004512234590947628, -0.007612389978021383,...     0.841525  \n243  [0.007545703090727329, -0.01371828280389309, 0...     0.841292  \n247  [-0.006942516192793846, -0.0386972613632679, 0...     0.837702  \n149  [-0.02092052437365055, -0.017696961760520935, ...     0.836729  \n152  [0.004126709885895252, -0.02312232181429863, -...     0.834452  \n154  [0.006228722631931305, -0.01535107847303152, -...     0.833381  \n198  [-0.020876901224255562, -0.007244549226015806,...     0.829093  \n237  [-0.010474665090441704, -0.030687084421515465,...     0.827438  ",
            "text/html": "<div>\n<style scoped>\n    .dataframe tbody tr th:only-of-type {\n        vertical-align: middle;\n    }\n\n    .dataframe tbody tr th {\n        vertical-align: top;\n    }\n\n    .dataframe thead th {\n        text-align: right;\n    }\n</style>\n<table border=\"1\" class=\"dataframe\">\n  <thead>\n    <tr style=\"text-align: right;\">\n      <th></th>\n      <th>itemId</th>\n      <th>Title</th>\n      <th>Description</th>\n      <th>Release Date</th>\n      <th>textCombined</th>\n      <th>textEmbedding</th>\n      <th>searchScore</th>\n    </tr>\n  </thead>\n  <tbody>\n    <tr>\n      <th>255</th>\n      <td>68719495270</td>\n      <td>Strappy Platform Pumps</td>\n      <td>These strappy platform pumps can be paired wit...</td>\n      <td>2021-09-15T11:12:13.000Z</td>\n      <td>Strappy Platform Pumps, These strappy platform...</td>\n      <td>[-0.013429885730147362, -0.013352850452065468,...</td>\n      <td>0.845308</td>\n    </tr>\n    <tr>\n      <th>249</th>\n      <td>68719495132</td>\n      <td>Pointed-toe Pumps</td>\n      <td>These red pointed-toe pumps are perfect for pa...</td>\n      <td>2021-02-16T11:12:13.000Z</td>\n      <td>Pointed-toe Pumps, These red pointed-toe pumps...</td>\n      <td>[-0.016923705115914345, -0.029531994834542274,...</td>\n      <td>0.843851</td>\n    </tr>\n    <tr>\n      <th>151</th>\n      <td>68719493316</td>\n      <td>Suede Dress Shoes</td>\n      <td>Classic dress shoes paired with suede to creat...</td>\n      <td>2021-04-11T11:12:13.000Z</td>\n      <td>Suede Dress Shoes, Classic dress shoes paired ...</td>\n      <td>[-0.004512234590947628, -0.007612389978021383,...</td>\n      <td>0.841525</td>\n    </tr>\n    <tr>\n      <th>243</th>\n      <td>68719494994</td>\n      <td>Platform Leather Pumps</td>\n      <td>These black platform leather pumps are perfect...</td>\n      <td>2021-01-19T11:12:13.000Z</td>\n      <td>Platform Leather Pumps, These black platform l...</td>\n      <td>[0.007545703090727329, -0.01371828280389309, 0...</td>\n      <td>0.841292</td>\n    </tr>\n    <tr>\n      <th>247</th>\n      <td>68719495086</td>\n      <td>Platform Open-toe Velvet Pumps</td>\n      <td>These tan platform open-toe velvet pumps are p...</td>\n      <td>2021-04-24T11:12:13.000Z</td>\n      <td>Platform Open-toe Velvet Pumps, These tan plat...</td>\n      <td>[-0.006942516192793846, -0.0386972613632679, 0...</td>\n      <td>0.837702</td>\n    </tr>\n    <tr>\n      <th>149</th>\n      <td>68719493275</td>\n      <td>Tailored Patchwork Dress Shoes</td>\n      <td>Tan dress shoes complete with tailored patchwo...</td>\n      <td>2021-01-24T11:12:13.000Z</td>\n      <td>Tailored Patchwork Dress Shoes, Tan dress shoe...</td>\n      <td>[-0.02092052437365055, -0.017696961760520935, ...</td>\n      <td>0.836729</td>\n    </tr>\n    <tr>\n      <th>152</th>\n      <td>68719493343</td>\n      <td>Classic Leather Dress Shoes</td>\n      <td>Classic dress shoes made of authentic leather.</td>\n      <td>2021-08-22T11:12:13.000Z</td>\n      <td>Classic Leather Dress Shoes, Classic dress sho...</td>\n      <td>[0.004126709885895252, -0.02312232181429863, -...</td>\n      <td>0.834452</td>\n    </tr>\n    <tr>\n      <th>154</th>\n      <td>68719493397</td>\n      <td>Genuine Leather Tuxedo Shoe</td>\n      <td>Black tuxedo shoe crafted with genuine leather.</td>\n      <td>2021-09-18T11:12:13.000Z</td>\n      <td>Genuine Leather Tuxedo Shoe, Black tuxedo shoe...</td>\n      <td>[0.006228722631931305, -0.01535107847303152, -...</td>\n      <td>0.833381</td>\n    </tr>\n    <tr>\n      <th>198</th>\n      <td>68719494523</td>\n      <td>Strapless Black Evening Dress</td>\n      <td>This strapless black evening dress is perfect ...</td>\n      <td>2021-02-26T11:12:13.000Z</td>\n      <td>Strapless Black Evening Dress, This strapless ...</td>\n      <td>[-0.020876901224255562, -0.007244549226015806,...</td>\n      <td>0.829093</td>\n    </tr>\n    <tr>\n      <th>237</th>\n      <td>68719494856</td>\n      <td>Platform Stilleto Booties</td>\n      <td>Platform stilletos are paired with black leath...</td>\n      <td>2021-05-15T11:12:13.000Z</td>\n      <td>Platform Stilleto Booties, Platform stilletos ...</td>\n      <td>[-0.010474665090441704, -0.030687084421515465,...</td>\n      <td>0.827438</td>\n    </tr>\n  </tbody>\n</table>\n</div>"
          },
          "metadata": {}
        }
      ],
      "execution_count": 14,
      "metadata": {
        "jupyter": {
          "source_hidden": false,
          "outputs_hidden": false
        },
        "nteract": {
          "transient": {
            "deleting": false
          }
        },
        "gather": {
          "logged": 1684448582464
        }
      }
    },
    {
      "cell_type": "markdown",
      "source": [
        "Select the top number of products to include for recommendations (e.g. top ranking based on similarity score)."
      ],
      "metadata": {
        "nteract": {
          "transient": {
            "deleting": false
          }
        }
      }
    },
    {
      "cell_type": "code",
      "source": [
        "n = 8 # number of product options to include; this will be included in the prompt - narrow down to focus, but provide enough variety to make it interesting!\r\n",
        "\r\n",
        "topProducts= products_df.head(n)\r\n",
        "topProducts"
      ],
      "outputs": [
        {
          "output_type": "execute_result",
          "execution_count": 15,
          "data": {
            "text/plain": "          itemId                           Title  \\\n255  68719495270          Strappy Platform Pumps   \n249  68719495132               Pointed-toe Pumps   \n151  68719493316               Suede Dress Shoes   \n243  68719494994          Platform Leather Pumps   \n247  68719495086  Platform Open-toe Velvet Pumps   \n149  68719493275  Tailored Patchwork Dress Shoes   \n152  68719493343     Classic Leather Dress Shoes   \n154  68719493397     Genuine Leather Tuxedo Shoe   \n\n                                           Description  \\\n255  These strappy platform pumps can be paired wit...   \n249  These red pointed-toe pumps are perfect for pa...   \n151  Classic dress shoes paired with suede to creat...   \n243  These black platform leather pumps are perfect...   \n247  These tan platform open-toe velvet pumps are p...   \n149  Tan dress shoes complete with tailored patchwo...   \n152    Classic dress shoes made of authentic leather.    \n154   Black tuxedo shoe crafted with genuine leather.    \n\n                 Release Date  \\\n255  2021-09-15T11:12:13.000Z   \n249  2021-02-16T11:12:13.000Z   \n151  2021-04-11T11:12:13.000Z   \n243  2021-01-19T11:12:13.000Z   \n247  2021-04-24T11:12:13.000Z   \n149  2021-01-24T11:12:13.000Z   \n152  2021-08-22T11:12:13.000Z   \n154  2021-09-18T11:12:13.000Z   \n\n                                          textCombined  \\\n255  Strappy Platform Pumps, These strappy platform...   \n249  Pointed-toe Pumps, These red pointed-toe pumps...   \n151  Suede Dress Shoes, Classic dress shoes paired ...   \n243  Platform Leather Pumps, These black platform l...   \n247  Platform Open-toe Velvet Pumps, These tan plat...   \n149  Tailored Patchwork Dress Shoes, Tan dress shoe...   \n152  Classic Leather Dress Shoes, Classic dress sho...   \n154  Genuine Leather Tuxedo Shoe, Black tuxedo shoe...   \n\n                                         textEmbedding  searchScore  \n255  [-0.013429885730147362, -0.013352850452065468,...     0.845308  \n249  [-0.016923705115914345, -0.029531994834542274,...     0.843851  \n151  [-0.004512234590947628, -0.007612389978021383,...     0.841525  \n243  [0.007545703090727329, -0.01371828280389309, 0...     0.841292  \n247  [-0.006942516192793846, -0.0386972613632679, 0...     0.837702  \n149  [-0.02092052437365055, -0.017696961760520935, ...     0.836729  \n152  [0.004126709885895252, -0.02312232181429863, -...     0.834452  \n154  [0.006228722631931305, -0.01535107847303152, -...     0.833381  ",
            "text/html": "<div>\n<style scoped>\n    .dataframe tbody tr th:only-of-type {\n        vertical-align: middle;\n    }\n\n    .dataframe tbody tr th {\n        vertical-align: top;\n    }\n\n    .dataframe thead th {\n        text-align: right;\n    }\n</style>\n<table border=\"1\" class=\"dataframe\">\n  <thead>\n    <tr style=\"text-align: right;\">\n      <th></th>\n      <th>itemId</th>\n      <th>Title</th>\n      <th>Description</th>\n      <th>Release Date</th>\n      <th>textCombined</th>\n      <th>textEmbedding</th>\n      <th>searchScore</th>\n    </tr>\n  </thead>\n  <tbody>\n    <tr>\n      <th>255</th>\n      <td>68719495270</td>\n      <td>Strappy Platform Pumps</td>\n      <td>These strappy platform pumps can be paired wit...</td>\n      <td>2021-09-15T11:12:13.000Z</td>\n      <td>Strappy Platform Pumps, These strappy platform...</td>\n      <td>[-0.013429885730147362, -0.013352850452065468,...</td>\n      <td>0.845308</td>\n    </tr>\n    <tr>\n      <th>249</th>\n      <td>68719495132</td>\n      <td>Pointed-toe Pumps</td>\n      <td>These red pointed-toe pumps are perfect for pa...</td>\n      <td>2021-02-16T11:12:13.000Z</td>\n      <td>Pointed-toe Pumps, These red pointed-toe pumps...</td>\n      <td>[-0.016923705115914345, -0.029531994834542274,...</td>\n      <td>0.843851</td>\n    </tr>\n    <tr>\n      <th>151</th>\n      <td>68719493316</td>\n      <td>Suede Dress Shoes</td>\n      <td>Classic dress shoes paired with suede to creat...</td>\n      <td>2021-04-11T11:12:13.000Z</td>\n      <td>Suede Dress Shoes, Classic dress shoes paired ...</td>\n      <td>[-0.004512234590947628, -0.007612389978021383,...</td>\n      <td>0.841525</td>\n    </tr>\n    <tr>\n      <th>243</th>\n      <td>68719494994</td>\n      <td>Platform Leather Pumps</td>\n      <td>These black platform leather pumps are perfect...</td>\n      <td>2021-01-19T11:12:13.000Z</td>\n      <td>Platform Leather Pumps, These black platform l...</td>\n      <td>[0.007545703090727329, -0.01371828280389309, 0...</td>\n      <td>0.841292</td>\n    </tr>\n    <tr>\n      <th>247</th>\n      <td>68719495086</td>\n      <td>Platform Open-toe Velvet Pumps</td>\n      <td>These tan platform open-toe velvet pumps are p...</td>\n      <td>2021-04-24T11:12:13.000Z</td>\n      <td>Platform Open-toe Velvet Pumps, These tan plat...</td>\n      <td>[-0.006942516192793846, -0.0386972613632679, 0...</td>\n      <td>0.837702</td>\n    </tr>\n    <tr>\n      <th>149</th>\n      <td>68719493275</td>\n      <td>Tailored Patchwork Dress Shoes</td>\n      <td>Tan dress shoes complete with tailored patchwo...</td>\n      <td>2021-01-24T11:12:13.000Z</td>\n      <td>Tailored Patchwork Dress Shoes, Tan dress shoe...</td>\n      <td>[-0.02092052437365055, -0.017696961760520935, ...</td>\n      <td>0.836729</td>\n    </tr>\n    <tr>\n      <th>152</th>\n      <td>68719493343</td>\n      <td>Classic Leather Dress Shoes</td>\n      <td>Classic dress shoes made of authentic leather.</td>\n      <td>2021-08-22T11:12:13.000Z</td>\n      <td>Classic Leather Dress Shoes, Classic dress sho...</td>\n      <td>[0.004126709885895252, -0.02312232181429863, -...</td>\n      <td>0.834452</td>\n    </tr>\n    <tr>\n      <th>154</th>\n      <td>68719493397</td>\n      <td>Genuine Leather Tuxedo Shoe</td>\n      <td>Black tuxedo shoe crafted with genuine leather.</td>\n      <td>2021-09-18T11:12:13.000Z</td>\n      <td>Genuine Leather Tuxedo Shoe, Black tuxedo shoe...</td>\n      <td>[0.006228722631931305, -0.01535107847303152, -...</td>\n      <td>0.833381</td>\n    </tr>\n  </tbody>\n</table>\n</div>"
          },
          "metadata": {}
        }
      ],
      "execution_count": 15,
      "metadata": {
        "jupyter": {
          "source_hidden": false,
          "outputs_hidden": false
        },
        "nteract": {
          "transient": {
            "deleting": false
          }
        },
        "gather": {
          "logged": 1684448584490
        }
      }
    },
    {
      "cell_type": "markdown",
      "source": [
        "# Setup ChatGPT Prompt\r\n",
        "\r\n",
        "Create the message (prompt) to send to ChatGPT.  With the [Chat Completion API](https://learn.microsoft.com/en-us/azure/cognitive-services/openai/how-to/chatgpt?pivots=programming-language-chat-completions#working-with-the-chat-completion-api) there are distinct sections of the prompt that are sent to the API in the form of an array of dictionaries with associated roles: system, user, and assistant. "
      ],
      "metadata": {
        "nteract": {
          "transient": {
            "deleting": false
          }
        }
      }
    },
    {
      "cell_type": "code",
      "source": [
        "#start from an empty list, this will store the components of the prompts to send to the conversational model\r\n",
        "prompt = []"
      ],
      "outputs": [],
      "execution_count": 16,
      "metadata": {
        "jupyter": {
          "source_hidden": false,
          "outputs_hidden": false
        },
        "nteract": {
          "transient": {
            "deleting": false
          }
        },
        "gather": {
          "logged": 1684448586046
        }
      }
    },
    {
      "cell_type": "markdown",
      "source": [
        "Start with the system message, these are the initial instructions to the model.  This is optional, but is recommended to have at least one system instruction to get optimal results.\r\n",
        "\r\n",
        "For our example, we will provide the set of top product recommendations to the model as context in the next steps, but we can instruct the model to use only this via the system message."
      ],
      "metadata": {
        "nteract": {
          "transient": {
            "deleting": false
          }
        }
      }
    },
    {
      "cell_type": "code",
      "source": [
        "system_message = \"You're a digital stylist helping customers by making product recommendations based on their preferences. \\\r\n",
        "You are given a question and a context. You need to answer the question using only the context.  You can provide from one to three recommendations in each answer. \\\r\n",
        "Make sure to explain your recommendations. Please be friendly and talk the user like a person don't just give a list of recommendations. \"\r\n",
        "\r\n",
        "prompt.append({\"role\":\"system\", \"content\": system_message})\r\n",
        "prompt"
      ],
      "outputs": [
        {
          "output_type": "execute_result",
          "execution_count": 17,
          "data": {
            "text/plain": "[{'role': 'system',\n  'content': \"You're a digital stylist helping customers by making product recommendations based on their preferences. You are given a question and a context. You need to answer the question using only the context.  You can provide from one to three recommendations in each answer. Make sure to explain your recommendations. Please be friendly and talk the user like a person don't just give a list of recommendations. \"}]"
          },
          "metadata": {}
        }
      ],
      "execution_count": 17,
      "metadata": {
        "jupyter": {
          "source_hidden": false,
          "outputs_hidden": false
        },
        "nteract": {
          "transient": {
            "deleting": false
          }
        },
        "gather": {
          "logged": 1684448589056
        }
      }
    },
    {
      "cell_type": "markdown",
      "source": [
        "Next, we will add an example showing the format we want the results to be in."
      ],
      "metadata": {
        "nteract": {
          "transient": {
            "deleting": false
          }
        }
      }
    },
    {
      "cell_type": "code",
      "source": [
        "# adding some special instructions and an example\r\n",
        "prompt.append({\"role\":\"user\", \"content\": f\"Print the itemId at the end of the recommendations enclosed in []\"})\r\n",
        "prompt.append({\"role\": \"assistant\", \"content\": f\"I think you might like these lattice platform pumps [68719495293].\"})"
      ],
      "outputs": [],
      "execution_count": 18,
      "metadata": {
        "jupyter": {
          "source_hidden": false,
          "outputs_hidden": false
        },
        "nteract": {
          "transient": {
            "deleting": false
          }
        },
        "gather": {
          "logged": 1684448593194
        }
      }
    },
    {
      "cell_type": "markdown",
      "source": [
        "For a more conversational experience, try adding this to the prompt."
      ],
      "metadata": {
        "nteract": {
          "transient": {
            "deleting": false
          }
        }
      }
    },
    {
      "cell_type": "code",
      "source": [
        "# This is a good one to add for a conversational/chat bot user interface!\r\n",
        "#prompt.append({\"role\":\"user\", \"content\": f\"Ask follow up questions if it would be helpful to narrow down the recommendations.\"})"
      ],
      "outputs": [],
      "execution_count": 19,
      "metadata": {
        "jupyter": {
          "source_hidden": false,
          "outputs_hidden": false
        },
        "nteract": {
          "transient": {
            "deleting": false
          }
        },
        "gather": {
          "logged": 1684448594692
        }
      }
    },
    {
      "cell_type": "markdown",
      "source": [
        "Now we add the context, which is a number of recommended products; enough to make the conversation flow, but not so many the recommendations are low quality."
      ],
      "metadata": {
        "nteract": {
          "transient": {
            "deleting": false
          }
        }
      }
    },
    {
      "cell_type": "code",
      "source": [
        "#add a list of top products that match the search request products_list\r\n",
        "products_list = []\r\n",
        "\r\n",
        "for index, row in topProducts.iterrows():\r\n",
        "    products_list.append(f\"{row['textCombined']} [{row['itemId']}]\")\r\n",
        "    \r\n",
        "prompt.append({\"role\":\"user\", \"content\":f\"Question: {customer_input} <context> {products_list} </context>\"})\r\n",
        "prompt"
      ],
      "outputs": [
        {
          "output_type": "execute_result",
          "execution_count": 21,
          "data": {
            "text/plain": "[{'role': 'system',\n  'content': \"You're a digital stylist helping customers by making product recommendations based on their preferences. You are given a question and a context. You need to answer the question using only the context.  You can provide from one to three recommendations in each answer. Make sure to explain your recommendations. Please be friendly and talk the user like a person don't just give a list of recommendations. \"},\n {'role': 'user',\n  'content': 'Print the itemId at the end of the recommendations enclosed in []'},\n {'role': 'assistant',\n  'content': 'I think you might like these lattice platform pumps [68719495293].'},\n {'role': 'user',\n  'content': \"Question: Hi! Can you recommend some dressy shoes for me to wear with a black dress? <context> ['Strappy Platform Pumps, These strappy platform pumps can be paired with your favorite sun dress for an elegant look.  [68719495270]', 'Pointed-toe Pumps, These red pointed-toe pumps are perfect for pairing with your favorite cocktail dress.  [68719495132]', 'Suede Dress Shoes, Classic dress shoes paired with suede to create a classy look. [68719493316]', 'Platform Leather Pumps, These black platform leather pumps are perfect a night out. [68719494994]', 'Platform Open-toe Velvet Pumps, These tan platform open-toe velvet pumps are perfect for pairing with any cocktail dress.  [68719495086]', 'Tailored Patchwork Dress Shoes, Tan dress shoes complete with tailored patchwork for a sophisticated design.  [68719493275]', 'Classic Leather Dress Shoes, Classic dress shoes made of authentic leather.  [68719493343]', 'Genuine Leather Tuxedo Shoe, Black tuxedo shoe crafted with genuine leather.  [68719493397]'] </context>\"}]"
          },
          "metadata": {}
        }
      ],
      "execution_count": 21,
      "metadata": {
        "jupyter": {
          "source_hidden": false,
          "outputs_hidden": false
        },
        "nteract": {
          "transient": {
            "deleting": false
          }
        },
        "gather": {
          "logged": 1684448614784
        }
      }
    },
    {
      "cell_type": "markdown",
      "source": [
        "# Get ChatGPT Recommendations\r\n",
        "\r\n",
        "Next, the prompt is sent to the model using the [ChatCompletion REST API](https://learn.microsoft.com/en-us/azure/cognitive-services/openai/reference#chat-completions) call which returns the recommendations."
      ],
      "metadata": {
        "nteract": {
          "transient": {
            "deleting": false
          }
        }
      }
    },
    {
      "cell_type": "code",
      "source": [
        "completion = openai.ChatCompletion.create(\r\n",
        "  engine=chat_model_deployment,\r\n",
        "  messages=prompt\r\n",
        ")"
      ],
      "outputs": [],
      "execution_count": 22,
      "metadata": {
        "jupyter": {
          "source_hidden": false,
          "outputs_hidden": false
        },
        "nteract": {
          "transient": {
            "deleting": false
          }
        },
        "gather": {
          "logged": 1684448639911
        }
      }
    },
    {
      "cell_type": "code",
      "source": [
        "print(completion.choices[0].message['content'])\r\n",
        "print(f'\\nPrompt tokens: {completion[\"usage\"][\"prompt_tokens\"]}')\r\n",
        "print(f'Completion tokens: {completion[\"usage\"][\"completion_tokens\"]}')\r\n",
        "print(f'Total tokens: {completion[\"usage\"][\"total_tokens\"]}')\r\n"
      ],
      "outputs": [
        {
          "output_type": "stream",
          "name": "stdout",
          "text": "Of course! Based on the context you provided, there are some great options for dressy shoes to pair with a black dress! For a classic look, I would recommend either the Suede Dress Shoes [68719493316] or the Classic Leather Dress Shoes [68719493343]. Both options are timeless and versatile, which means they can be dressed up or down to fit any event.\n\nIf you're looking for something with a bit more edge, the Platform Leather Pumps [68719494994] are a great option. These black pumps have a platform sole, which provides comfort and stability while you're on your feet all night.\n\nAnother great option is the Strappy Platform Pumps [68719495270]. These strappy, black pumps also have a platform sole, and will make your legs look miles long! They pair perfectly with a black dress and add a touch of elegance to any outfit.\n\nI hope this helps! Let me know if you have any other questions.\n\nPrompt tokens: 371\nCompletion tokens: 198\nTotal tokens: 569\n"
        }
      ],
      "execution_count": 23,
      "metadata": {
        "jupyter": {
          "source_hidden": false,
          "outputs_hidden": false
        },
        "nteract": {
          "transient": {
            "deleting": false
          }
        },
        "gather": {
          "logged": 1684448642119
        }
      }
    },
    {
      "cell_type": "markdown",
      "source": [
        "# Recommender Application\r\n",
        "\r\n",
        "The following code puts everything together from above to facilitate testing different searches."
      ],
      "metadata": {
        "nteract": {
          "transient": {
            "deleting": false
          }
        }
      }
    },
    {
      "cell_type": "code",
      "source": [
        "def getAOAIRecommendations(userRequest, numSearchRecs, products_df, embedding_model, chat_model):\r\n",
        "\r\n",
        "    #embed the user's search request\r\n",
        "    response = openai.Embedding.create(\r\n",
        "        input=userRequest,\r\n",
        "        engine=embedding_model\r\n",
        "    )\r\n",
        "    embeddings_customer_question = response['data'][0]['embedding']\r\n",
        "\r\n",
        "    # based on the user's search, look for similar items in the product catalog, sort by highest searchScore\r\n",
        "    products_df['searchScore'] = products_df.textEmbedding.apply(lambda x: cosine_similarity(x, embeddings_customer_question))\r\n",
        "    products_df = products_df.sort_values('searchScore', ascending=False)\r\n",
        "\r\n",
        "    #select the top products to include for recommendations\r\n",
        "    topProducts= products_df.head(numSearchRecs)\r\n",
        "\r\n",
        "    #setup a list of the top products matching the user's search \r\n",
        "    products_list = []\r\n",
        "\r\n",
        "    for index, row in topProducts.iterrows():\r\n",
        "        products_list.append(f\"{row['textCombined']} [{row['itemId']}]\")\r\n",
        "\r\n",
        "    prompt = []\r\n",
        "\r\n",
        "    #setting up the personality and clear instructions for the assistant\r\n",
        "    system_message = \"You're a digital stylist helping customers by making product recommendations based on their preferences. \\\r\n",
        "    You are given a question and a context. You need to answer the question using only the context.  You can provide from one to three recommendations in each answer. \\\r\n",
        "    Make sure to explain your recommendations. Please be friendly and talk the user like a person don't just give a list of recommendations. \"\r\n",
        "\r\n",
        "    prompt.append({\"role\":\"system\", \"content\": system_message})\r\n",
        "\r\n",
        "    # adding some special instructions and an example\r\n",
        "    prompt.append({\"role\":\"user\", \"content\": f\"Print the itemId at the end of the recommendations enclosed in []\"})\r\n",
        "    prompt.append({\"role\": \"assistant\", \"content\": f\"I think you might like these lattice platform pumps [68719495293].\"})\r\n",
        "\r\n",
        "    # last, add the user's search question with the specific context.\r\n",
        "    prompt.append({\"role\":\"user\", \"content\":f\"Question: {userRequest} <context> {products_list} </context>\"})\r\n",
        "\r\n",
        "    completion = openai.ChatCompletion.create(\r\n",
        "    engine=chat_model,\r\n",
        "    messages=prompt,\r\n",
        "    temperature=0.7,  #adjust as needed to make more or less random/deterministic\r\n",
        "    )\r\n",
        "\r\n",
        "    return completion, completion.choices[0].message['content']\r\n"
      ],
      "outputs": [],
      "execution_count": 24,
      "metadata": {
        "jupyter": {
          "source_hidden": false,
          "outputs_hidden": false
        },
        "nteract": {
          "transient": {
            "deleting": false
          }
        },
        "gather": {
          "logged": 1684448651050
        }
      }
    },
    {
      "cell_type": "code",
      "source": [
        "userRequest = \"Hello.  I need some shoes to wear with a black dress.\"\r\n",
        "num_recs = 8 #number to include in set to select from (max 3 should be returned by prompt)"
      ],
      "outputs": [],
      "execution_count": 25,
      "metadata": {
        "jupyter": {
          "source_hidden": false,
          "outputs_hidden": false
        },
        "nteract": {
          "transient": {
            "deleting": false
          }
        },
        "gather": {
          "logged": 1684448653280
        }
      }
    },
    {
      "cell_type": "markdown",
      "source": [
        "Run the following examples twice to see variations in the response and format."
      ],
      "metadata": {
        "nteract": {
          "transient": {
            "deleting": false
          }
        }
      }
    },
    {
      "cell_type": "code",
      "source": [
        "completion, aiResponse = getAOAIRecommendations(userRequest, 10, products_df, embeddings_model_deployment, chat_model_deployment)\r\n",
        "print(f\"Customer: {userRequest}\")\r\n",
        "print(f\"\\nStylist: {aiResponse}\")\r\n",
        "print(f'\\nPrompt tokens: {completion[\"usage\"][\"prompt_tokens\"]}')\r\n",
        "print(f'Completion tokens: {completion[\"usage\"][\"completion_tokens\"]}')\r\n",
        "print(f'Total tokens: {completion[\"usage\"][\"total_tokens\"]}')"
      ],
      "outputs": [
        {
          "output_type": "stream",
          "name": "stdout",
          "text": "Customer: Hello.  I need some shoes to wear with a black dress.\n\nStylist: Of course! For a black dress, I would suggest the following: \n\n1. Platform Leather Pumps [68719494994]: These black platform pumps would go perfectly with a black dress. They add height and make your legs look great, while still being comfortable enough to wear for a night out. \n\n2. Classic Leather Dress Shoes [68719493343]: If you're looking for something a bit more understated, these classic leather dress shoes are a perfect choice. They're made of high-quality leather and will never go out of style. \n\n3. Strappy Platform Pumps [68719495270]: If you're looking for a bit of fun and glam, these strappy platform pumps would be a great choice. They add height and have a fun and flirty design.\n\nPrompt tokens: 432\nCompletion tokens: 160\nTotal tokens: 592\n"
        }
      ],
      "execution_count": 36,
      "metadata": {
        "jupyter": {
          "source_hidden": false,
          "outputs_hidden": false
        },
        "nteract": {
          "transient": {
            "deleting": false
          }
        },
        "gather": {
          "logged": 1684448914463
        }
      }
    },
    {
      "cell_type": "code",
      "source": [
        "completion, aiResponse = getAOAIRecommendations(userRequest, 10, products_df, embeddings_model_deployment, chat_model_deployment)\r\n",
        "print(f\"Customer: {userRequest}\")\r\n",
        "print(f\"\\nStylist: {aiResponse}\")\r\n",
        "print(f'\\nPrompt tokens: {completion[\"usage\"][\"prompt_tokens\"]}')\r\n",
        "print(f'Completion tokens: {completion[\"usage\"][\"completion_tokens\"]}')\r\n",
        "print(f'Total tokens: {completion[\"usage\"][\"total_tokens\"]}')"
      ],
      "outputs": [
        {
          "output_type": "stream",
          "name": "stdout",
          "text": "Customer: Hello.  I need some shoes to wear with a black dress.\n\nStylist: Great to hear that you're looking for shoes to wear with your black dress! Based on the options you've provided, I would recommend either the Platform Leather Pumps [68719494994] or the Strappy Platform Pumps [68719495270]. \n\nThe Platform Leather Pumps are a classic choice that will pair well with any black dress. The platform design will give you some extra height and the leather material will add a touch of sophistication.\n\nThe Strappy Platform Pumps are another great option that will add some elegance to your look. The strappy design will add some visual interest and the platform heel will provide some extra height. \n\nBoth of these options will work well with a black dress, and you can choose the one that appeals more to your personal style.\n\nPrompt tokens: 432\nCompletion tokens: 156\nTotal tokens: 588\n"
        }
      ],
      "execution_count": 33,
      "metadata": {
        "jupyter": {
          "source_hidden": false,
          "outputs_hidden": false
        },
        "nteract": {
          "transient": {
            "deleting": false
          }
        },
        "gather": {
          "logged": 1684448848557
        }
      }
    },
    {
      "cell_type": "code",
      "source": [
        "userRequest = \"Hi! Can you recommend a shirt for me to wear with a suit or tuxedo?\"\r\n",
        "num_recs = 5\r\n",
        "\r\n",
        "# The following is just to see results/options that are sent along with prompt.\r\n",
        "#embed their request\r\n",
        "response = openai.Embedding.create(\r\n",
        "    input=userRequest,\r\n",
        "    engine=embeddings_model_deployment\r\n",
        ")\r\n",
        "embeddings_customer_question = response['data'][0]['embedding']\r\n",
        "\r\n",
        "# look for similar items in the product catalog, sort by highest searchScore\r\n",
        "products_df['searchScore'] = products_df.textEmbedding.apply(lambda x: cosine_similarity(x, embeddings_customer_question))\r\n",
        "products_df = products_df.sort_values('searchScore', ascending=False)\r\n",
        "products_df.head(num_recs)"
      ],
      "outputs": [
        {
          "output_type": "execute_result",
          "execution_count": 37,
          "data": {
            "text/plain": "          itemId                                  Title  \\\n133  68719493034             Slim Fit Button-Down Shirt   \n135  68719493072           Casual Fit Button-Down Shirt   \n136  68719493091             Easy-Fit Button-Down Shirt   \n132  68719493015                Denim Button-Down Shirt   \n97   68719492334  Regular Fit Button Up Checkered Shirt   \n\n                                           Description  \\\n133  A longsleeve slim fit black button-down shirt ...   \n135  A longsleeve casual fit button-down white shir...   \n136  A longsleeve casual fit button-down black shir...   \n132  A longsleeve button-down shirt made of denim f...   \n97   Regular fit button up checkered shirt made of ...   \n\n                 Release Date  \\\n133  2021-08-18T11:12:13.000Z   \n135  2021-01-14T11:12:13.000Z   \n136  2021-02-23T11:12:13.000Z   \n132  2021-01-24T11:12:13.000Z   \n97   2021-02-11T11:12:13.000Z   \n\n                                          textCombined  \\\n133  Slim Fit Button-Down Shirt, A longsleeve slim ...   \n135  Casual Fit Button-Down Shirt, A longsleeve cas...   \n136  Easy-Fit Button-Down Shirt, A longsleeve casua...   \n132  Denim Button-Down Shirt, A longsleeve button-d...   \n97   Regular Fit Button Up Checkered Shirt, Regular...   \n\n                                         textEmbedding  searchScore  \n133  [-0.03441871330142021, -0.0042664045467972755,...     0.835060  \n135  [-0.026497697457671165, -0.011109044775366783,...     0.832161  \n136  [-0.03009161725640297, -0.009634483605623245, ...     0.826278  \n132  [-0.03590767830610275, -0.010067337192595005, ...     0.819861  \n97   [-0.016316084191203117, -0.019890449941158295,...     0.818845  ",
            "text/html": "<div>\n<style scoped>\n    .dataframe tbody tr th:only-of-type {\n        vertical-align: middle;\n    }\n\n    .dataframe tbody tr th {\n        vertical-align: top;\n    }\n\n    .dataframe thead th {\n        text-align: right;\n    }\n</style>\n<table border=\"1\" class=\"dataframe\">\n  <thead>\n    <tr style=\"text-align: right;\">\n      <th></th>\n      <th>itemId</th>\n      <th>Title</th>\n      <th>Description</th>\n      <th>Release Date</th>\n      <th>textCombined</th>\n      <th>textEmbedding</th>\n      <th>searchScore</th>\n    </tr>\n  </thead>\n  <tbody>\n    <tr>\n      <th>133</th>\n      <td>68719493034</td>\n      <td>Slim Fit Button-Down Shirt</td>\n      <td>A longsleeve slim fit black button-down shirt ...</td>\n      <td>2021-08-18T11:12:13.000Z</td>\n      <td>Slim Fit Button-Down Shirt, A longsleeve slim ...</td>\n      <td>[-0.03441871330142021, -0.0042664045467972755,...</td>\n      <td>0.835060</td>\n    </tr>\n    <tr>\n      <th>135</th>\n      <td>68719493072</td>\n      <td>Casual Fit Button-Down Shirt</td>\n      <td>A longsleeve casual fit button-down white shir...</td>\n      <td>2021-01-14T11:12:13.000Z</td>\n      <td>Casual Fit Button-Down Shirt, A longsleeve cas...</td>\n      <td>[-0.026497697457671165, -0.011109044775366783,...</td>\n      <td>0.832161</td>\n    </tr>\n    <tr>\n      <th>136</th>\n      <td>68719493091</td>\n      <td>Easy-Fit Button-Down Shirt</td>\n      <td>A longsleeve casual fit button-down black shir...</td>\n      <td>2021-02-23T11:12:13.000Z</td>\n      <td>Easy-Fit Button-Down Shirt, A longsleeve casua...</td>\n      <td>[-0.03009161725640297, -0.009634483605623245, ...</td>\n      <td>0.826278</td>\n    </tr>\n    <tr>\n      <th>132</th>\n      <td>68719493015</td>\n      <td>Denim Button-Down Shirt</td>\n      <td>A longsleeve button-down shirt made of denim f...</td>\n      <td>2021-01-24T11:12:13.000Z</td>\n      <td>Denim Button-Down Shirt, A longsleeve button-d...</td>\n      <td>[-0.03590767830610275, -0.010067337192595005, ...</td>\n      <td>0.819861</td>\n    </tr>\n    <tr>\n      <th>97</th>\n      <td>68719492334</td>\n      <td>Regular Fit Button Up Checkered Shirt</td>\n      <td>Regular fit button up checkered shirt made of ...</td>\n      <td>2021-02-11T11:12:13.000Z</td>\n      <td>Regular Fit Button Up Checkered Shirt, Regular...</td>\n      <td>[-0.016316084191203117, -0.019890449941158295,...</td>\n      <td>0.818845</td>\n    </tr>\n  </tbody>\n</table>\n</div>"
          },
          "metadata": {}
        }
      ],
      "execution_count": 37,
      "metadata": {
        "jupyter": {
          "source_hidden": false,
          "outputs_hidden": false
        },
        "nteract": {
          "transient": {
            "deleting": false
          }
        },
        "gather": {
          "logged": 1684448945741
        }
      }
    },
    {
      "cell_type": "code",
      "source": [
        "completion, aiResponse = getAOAIRecommendations(userRequest, 10, products_df, embeddings_model_deployment, chat_model_deployment)\r\n",
        "print(f\"Customer: {userRequest}\")\r\n",
        "print(f\"\\nStylist: {aiResponse}\")\r\n",
        "print(f'\\nPrompt tokens: {completion[\"usage\"][\"prompt_tokens\"]}')\r\n",
        "print(f'Completion tokens: {completion[\"usage\"][\"completion_tokens\"]}')\r\n",
        "print(f'Total tokens: {completion[\"usage\"][\"total_tokens\"]}')"
      ],
      "outputs": [
        {
          "output_type": "stream",
          "name": "stdout",
          "text": "Customer: Hi! Can you recommend a shirt for me to wear with a suit or tuxedo?\n\nStylist: Certainly! Based on your request for a shirt to wear with a suit or tuxedo, I would recommend the Slim Fit Button-Down Shirt [68719493034]. This black linen shirt is slim-fitting for a modern look and will pair well with a suit or tuxedo. If you prefer a more casual look, the Plaid Long Sleeve Shirt [68719492322] could also be a great option. Its long sleeves and button-up style make it a versatile choice for dressing up or down. Finally, if you want to add a pop of color to your outfit, the Pin Striped Long Sleeve Shirt [68719492304] is a classic option that can add a touch of sophistication to your ensemble.\n\nPrompt tokens: 454\nCompletion tokens: 147\nTotal tokens: 601\n"
        }
      ],
      "execution_count": 39,
      "metadata": {
        "jupyter": {
          "source_hidden": false,
          "outputs_hidden": false
        },
        "nteract": {
          "transient": {
            "deleting": false
          }
        },
        "gather": {
          "logged": 1684448995283
        }
      }
    },
    {
      "cell_type": "code",
      "source": [],
      "outputs": [],
      "execution_count": null,
      "metadata": {
        "jupyter": {
          "source_hidden": false,
          "outputs_hidden": false
        },
        "nteract": {
          "transient": {
            "deleting": false
          }
        }
      }
    }
  ],
  "metadata": {
    "kernelspec": {
      "name": "python38-azureml",
      "language": "python",
      "display_name": "Python 3.8 - AzureML"
    },
    "language_info": {
      "name": "python",
      "version": "3.8.10",
      "mimetype": "text/x-python",
      "codemirror_mode": {
        "name": "ipython",
        "version": 3
      },
      "pygments_lexer": "ipython3",
      "nbconvert_exporter": "python",
      "file_extension": ".py"
    },
    "microsoft": {
      "ms_spell_check": {
        "ms_spell_check_language": "en"
      },
      "host": {
        "AzureML": {
          "notebookHasBeenCompleted": true
        }
      }
    },
    "kernel_info": {
      "name": "python38-azureml"
    },
    "nteract": {
      "version": "nteract-front-end@1.0.0"
    }
  },
  "nbformat": 4,
  "nbformat_minor": 2
}